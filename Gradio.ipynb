{
 "cells": [
  {
   "cell_type": "code",
   "execution_count": 25,
   "id": "6dd30130-0507-41a6-bd0e-d4973b195e3a",
   "metadata": {
    "tags": []
   },
   "outputs": [
    {
     "name": "stdout",
     "output_type": "stream",
     "text": [
      "Running on local URL:  http://127.0.0.1:7875\n",
      "Running on public URL: https://dbd68bcc533a9bc66a.gradio.live\n",
      "\n",
      "This share link expires in 72 hours. For free permanent hosting and GPU upgrades, run `gradio deploy` from Terminal to deploy to Spaces (https://huggingface.co/spaces)\n"
     ]
    },
    {
     "data": {
      "text/html": [
       "<div><iframe src=\"https://dbd68bcc533a9bc66a.gradio.live\" width=\"100%\" height=\"500\" allow=\"autoplay; camera; microphone; clipboard-read; clipboard-write;\" frameborder=\"0\" allowfullscreen></iframe></div>"
      ],
      "text/plain": [
       "<IPython.core.display.HTML object>"
      ]
     },
     "metadata": {},
     "output_type": "display_data"
    },
    {
     "data": {
      "text/plain": []
     },
     "execution_count": 25,
     "metadata": {},
     "output_type": "execute_result"
    },
    {
     "name": "stdout",
     "output_type": "stream",
     "text": [
      "WARNING:tensorflow:5 out of the last 9 calls to <function Model.make_predict_function.<locals>.predict_function at 0x000001A596DA2F80> triggered tf.function retracing. Tracing is expensive and the excessive number of tracings could be due to (1) creating @tf.function repeatedly in a loop, (2) passing tensors with different shapes, (3) passing Python objects instead of tensors. For (1), please define your @tf.function outside of the loop. For (2), @tf.function has reduce_retracing=True option that can avoid unnecessary retracing. For (3), please refer to https://www.tensorflow.org/guide/function#controlling_retracing and https://www.tensorflow.org/api_docs/python/tf/function for  more details.\n",
      "1/1 [==============================] - 0s 170ms/step\n"
     ]
    }
   ],
   "source": [
    "import gradio as gr\n",
    "import tensorflow as tf\n",
    "import numpy as np\n",
    "from PIL import Image\n",
    "\n",
    "# Load your trained model\n",
    "model = tf.keras.models.load_model(\"Image Classification with CIFAR-10.h5\")\n",
    "\n",
    "# label mapping\n",
    "labels = '''Airplane Automobile Bird Cat Deer Dog Frog Horse Ship Truck'''.split()\n",
    "\n",
    "def classify_image(input_image):\n",
    "    # Convert Gradio image to numpy array\n",
    "    image = np.array(input_image)\n",
    "    \n",
    "    # Resize the image to 32x32 pixels\n",
    "    resized_image = Image.fromarray(image).resize((32, 32))\n",
    "    \n",
    "    # Convert the resized image to an array\n",
    "    image_array = np.array(resized_image)\n",
    "    \n",
    "    # Expand dimensions to match the model input shape\n",
    "    image_array = np.expand_dims(image_array, axis=0)\n",
    "    \n",
    "    # Make predictions using the model\n",
    "    predicted_label = labels[model.predict(image_array).argmax()]\n",
    "    \n",
    "    return f\"{predicted_label}\"\n",
    "\n",
    "# Create the Gradio interface\n",
    "demo = gr.Interface(fn=classify_image, inputs=input_image, outputs=output_text,\n",
    "                     title=\"CNN Image Classifier\", \n",
    "                     description=\"Upload an image and get the predicted class out of Airplane, Automobile, Bird, Cat, Deer, Dog, Frog, Horse, Ship, Truck.\")\n",
    "demo.launch(share=True)\n"
   ]
  },
  {
   "cell_type": "code",
   "execution_count": null,
   "id": "f406f7c0-69aa-46fb-9600-8d8010f71268",
   "metadata": {},
   "outputs": [],
   "source": []
  }
 ],
 "metadata": {
  "kernelspec": {
   "display_name": "Python 3.10 (tensorflow-gpu)",
   "language": "python",
   "name": "tensorflow-gpu"
  },
  "language_info": {
   "codemirror_mode": {
    "name": "ipython",
    "version": 3
   },
   "file_extension": ".py",
   "mimetype": "text/x-python",
   "name": "python",
   "nbconvert_exporter": "python",
   "pygments_lexer": "ipython3",
   "version": "3.10.12"
  }
 },
 "nbformat": 4,
 "nbformat_minor": 5
}
