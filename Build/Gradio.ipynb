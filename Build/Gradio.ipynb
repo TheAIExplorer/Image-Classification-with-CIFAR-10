{
 "cells": [
  {
   "cell_type": "code",
   "execution_count": 21,
   "id": "6dd30130-0507-41a6-bd0e-d4973b195e3a",
   "metadata": {
    "tags": []
   },
   "outputs": [
    {
     "name": "stderr",
     "output_type": "stream",
     "text": [
      "C:\\Users\\haris\\AppData\\Local\\Temp\\ipykernel_15284\\349516486.py:30: GradioDeprecationWarning: Usage of gradio.inputs is deprecated, and will not be supported in the future, please import your component from gradio.components\n",
      "  input_image = gr.inputs.Image()  # No need to specify shape\n",
      "C:\\Users\\haris\\AppData\\Local\\Temp\\ipykernel_15284\\349516486.py:30: GradioDeprecationWarning: `optional` parameter is deprecated, and it has no effect\n",
      "  input_image = gr.inputs.Image()  # No need to specify shape\n",
      "C:\\Users\\haris\\AppData\\Local\\Temp\\ipykernel_15284\\349516486.py:31: GradioDeprecationWarning: Usage of gradio.outputs is deprecated, and will not be supported in the future, please import your components from gradio.components\n",
      "  output_text = gr.outputs.Textbox()\n"
     ]
    },
    {
     "name": "stdout",
     "output_type": "stream",
     "text": [
      "Running on local URL:  http://127.0.0.1:7872\n",
      "\n",
      "To create a public link, set `share=True` in `launch()`.\n"
     ]
    },
    {
     "data": {
      "text/html": [
       "<div><iframe src=\"http://127.0.0.1:7872/\" width=\"100%\" height=\"500\" allow=\"autoplay; camera; microphone; clipboard-read; clipboard-write;\" frameborder=\"0\" allowfullscreen></iframe></div>"
      ],
      "text/plain": [
       "<IPython.core.display.HTML object>"
      ]
     },
     "metadata": {},
     "output_type": "display_data"
    },
    {
     "data": {
      "text/plain": []
     },
     "execution_count": 21,
     "metadata": {},
     "output_type": "execute_result"
    },
    {
     "name": "stdout",
     "output_type": "stream",
     "text": [
      "1/1 [==============================] - 0s 138ms/step\n",
      "1/1 [==============================] - 0s 16ms/step\n",
      "1/1 [==============================] - 0s 15ms/step\n",
      "1/1 [==============================] - 0s 21ms/step\n",
      "1/1 [==============================] - 0s 21ms/step\n"
     ]
    }
   ],
   "source": [
    "import gradio as gr\n",
    "import tensorflow as tf\n",
    "import numpy as np\n",
    "from PIL import Image\n",
    "\n",
    "# Load your trained model\n",
    "model = tf.keras.models.load_model(\"Image Classification with CIFAR-10.h5\")\n",
    "\n",
    "# label mapping\n",
    "labels = '''Airplane Automobile Bird Cat Deer Dog Frog Horse Ship Truck'''.split()\n",
    "\n",
    "def classify_image(input_image):\n",
    "    # Convert Gradio image to numpy array\n",
    "    image = np.array(input_image)\n",
    "    \n",
    "    # Resize the image to 32x32 pixels\n",
    "    resized_image = Image.fromarray(image).resize((32, 32))\n",
    "    \n",
    "    # Convert the resized image to an array\n",
    "    image_array = np.array(resized_image)\n",
    "    \n",
    "    # Expand dimensions to match the model input shape\n",
    "    image_array = np.expand_dims(image_array, axis=0)\n",
    "    \n",
    "    # Make predictions using the model\n",
    "    predicted_label = labels[model.predict(image_array).argmax()]\n",
    "    \n",
    "    return f\"{predicted_label}\"\n",
    "\n",
    "input_image = gr.inputs.Image()  # No need to specify shape\n",
    "output_text = gr.outputs.Textbox()\n",
    "\n",
    "# Create the Gradio interface\n",
    "demo = gr.Interface(fn=classify_image, inputs=input_image, outputs=output_text,\n",
    "                     title=\"CNN Image Classifier\", \n",
    "                     description=\"Upload an image and get the predicted class out of Airplane, Automobile, Bird, Cat, Deer, Dog, Frog, Horse, Ship, Truck.\")\n",
    "demo.launch()\n"
   ]
  },
  {
   "cell_type": "code",
   "execution_count": null,
   "id": "f406f7c0-69aa-46fb-9600-8d8010f71268",
   "metadata": {},
   "outputs": [],
   "source": []
  }
 ],
 "metadata": {
  "kernelspec": {
   "display_name": "Python 3.10 (tensorflow-gpu)",
   "language": "python",
   "name": "tensorflow-gpu"
  },
  "language_info": {
   "codemirror_mode": {
    "name": "ipython",
    "version": 3
   },
   "file_extension": ".py",
   "mimetype": "text/x-python",
   "name": "python",
   "nbconvert_exporter": "python",
   "pygments_lexer": "ipython3",
   "version": "3.10.12"
  }
 },
 "nbformat": 4,
 "nbformat_minor": 5
}
