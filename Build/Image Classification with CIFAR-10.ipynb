{
 "cells": [
  {
   "cell_type": "code",
   "execution_count": 3,
   "id": "ce3663cb-bdf1-497a-8a9a-cdc35fe9912d",
   "metadata": {},
   "outputs": [],
   "source": [
    "import tensorflow as tf\n",
    "import numpy as np\n",
    "import matplotlib.pyplot as plt\n",
    "from tensorflow.keras.layers import Input, Conv2D, Dense, Flatten, Dropout\n",
    "from tensorflow.keras.layers import GlobalMaxPooling2D, MaxPooling2D\n",
    "from tensorflow.keras.layers import BatchNormalization\n",
    "from tensorflow.keras.models import Model\n"
   ]
  },
  {
   "cell_type": "code",
   "execution_count": 4,
   "id": "404e4baa-243b-411e-aeaf-258f697b71fe",
   "metadata": {
    "tags": []
   },
   "outputs": [
    {
     "name": "stdout",
     "output_type": "stream",
     "text": [
      "(50000, 32, 32, 3) (50000, 1) (10000, 32, 32, 3) (10000, 1)\n"
     ]
    }
   ],
   "source": [
    "# Load in the data\n",
    "cifar10 = tf.keras.datasets.cifar10\n",
    "\n",
    "# Distribute it to train and test set\n",
    "(x_train, y_train), (x_test, y_test) = cifar10.load_data()\n",
    "print(x_train.shape, y_train.shape, x_test.shape, y_test.shape)\n"
   ]
  },
  {
   "cell_type": "code",
   "execution_count": 5,
   "id": "d524db96-556f-409c-b27e-70167469a2b6",
   "metadata": {
    "tags": []
   },
   "outputs": [],
   "source": [
    "# Narmalize pixel values\n",
    "x_train, x_test = x_train / 255.0, x_test / 255.0\n",
    "\n",
    "# flatten the label values\n",
    "y_train, y_test = y_train.flatten(), y_test.flatten()\n"
   ]
  },
  {
   "cell_type": "code",
   "execution_count": 10,
   "id": "7e2d115c-bab3-4161-9c09-310120ca7c15",
   "metadata": {
    "tags": []
   },
   "outputs": [
    {
     "name": "stdout",
     "output_type": "stream",
     "text": [
      "Model: \"model\"\n",
      "_________________________________________________________________\n",
      " Layer (type)                Output Shape              Param #   \n",
      "=================================================================\n",
      " input_2 (InputLayer)        [(None, 32, 32, 3)]       0         \n",
      "                                                                 \n",
      " conv2d_6 (Conv2D)           (None, 32, 32, 32)        896       \n",
      "                                                                 \n",
      " batch_normalization_6 (Batc  (None, 32, 32, 32)       128       \n",
      " hNormalization)                                                 \n",
      "                                                                 \n",
      " conv2d_7 (Conv2D)           (None, 32, 32, 32)        9248      \n",
      "                                                                 \n",
      " batch_normalization_7 (Batc  (None, 32, 32, 32)       128       \n",
      " hNormalization)                                                 \n",
      "                                                                 \n",
      " max_pooling2d_3 (MaxPooling  (None, 16, 16, 32)       0         \n",
      " 2D)                                                             \n",
      "                                                                 \n",
      " conv2d_8 (Conv2D)           (None, 16, 16, 64)        18496     \n",
      "                                                                 \n",
      " batch_normalization_8 (Batc  (None, 16, 16, 64)       256       \n",
      " hNormalization)                                                 \n",
      "                                                                 \n",
      " conv2d_9 (Conv2D)           (None, 16, 16, 64)        36928     \n",
      "                                                                 \n",
      " batch_normalization_9 (Batc  (None, 16, 16, 64)       256       \n",
      " hNormalization)                                                 \n",
      "                                                                 \n",
      " max_pooling2d_4 (MaxPooling  (None, 8, 8, 64)         0         \n",
      " 2D)                                                             \n",
      "                                                                 \n",
      " conv2d_10 (Conv2D)          (None, 8, 8, 128)         73856     \n",
      "                                                                 \n",
      " batch_normalization_10 (Bat  (None, 8, 8, 128)        512       \n",
      " chNormalization)                                                \n",
      "                                                                 \n",
      " conv2d_11 (Conv2D)          (None, 8, 8, 128)         147584    \n",
      "                                                                 \n",
      " batch_normalization_11 (Bat  (None, 8, 8, 128)        512       \n",
      " chNormalization)                                                \n",
      "                                                                 \n",
      " max_pooling2d_5 (MaxPooling  (None, 4, 4, 128)        0         \n",
      " 2D)                                                             \n",
      "                                                                 \n",
      " flatten_1 (Flatten)         (None, 2048)              0         \n",
      "                                                                 \n",
      " dropout_2 (Dropout)         (None, 2048)              0         \n",
      "                                                                 \n",
      " dense_1 (Dense)             (None, 1024)              2098176   \n",
      "                                                                 \n",
      " dropout_3 (Dropout)         (None, 1024)              0         \n",
      "                                                                 \n",
      " dense_2 (Dense)             (None, 10)                10250     \n",
      "                                                                 \n",
      "=================================================================\n",
      "Total params: 2,397,226\n",
      "Trainable params: 2,396,330\n",
      "Non-trainable params: 896\n",
      "_________________________________________________________________\n"
     ]
    }
   ],
   "source": [
    "# number of classes\n",
    "K = len(set(y_train))\n",
    "# Build the model using the functional API\n",
    "# input layer\n",
    "i = Input(shape=x_train[0].shape)\n",
    "x = Conv2D(32, (3, 3), activation='relu', padding='same')(i)\n",
    "x = BatchNormalization()(x)\n",
    "x = Conv2D(32, (3, 3), activation='relu', padding='same')(x)\n",
    "x = BatchNormalization()(x)\n",
    "x = MaxPooling2D((2, 2))(x)\n",
    "\n",
    "x = Conv2D(64, (3, 3), activation='relu', padding='same')(x)\n",
    "x = BatchNormalization()(x)\n",
    "x = Conv2D(64, (3, 3), activation='relu', padding='same')(x)\n",
    "x = BatchNormalization()(x)\n",
    "x = MaxPooling2D((2, 2))(x)\n",
    "\n",
    "x = Conv2D(128, (3, 3), activation='relu', padding='same')(x)\n",
    "x = BatchNormalization()(x)\n",
    "x = Conv2D(128, (3, 3), activation='relu', padding='same')(x)\n",
    "x = BatchNormalization()(x)\n",
    "x = MaxPooling2D((2, 2))(x)\n",
    "\n",
    "x = Flatten()(x)\n",
    "x = Dropout(0.2)(x)\n",
    "\n",
    "# Hidden layer\n",
    "x = Dense(1024, activation='relu')(x)\n",
    "x = Dropout(0.2)(x)\n",
    "\n",
    "# last hidden layer i.e.. output layer\n",
    "x = Dense(K, activation='softmax')(x)\n",
    "\n",
    "model = Model(i, x)\n",
    "\n",
    "# model description\n",
    "model.summary()\n"
   ]
  },
  {
   "cell_type": "code",
   "execution_count": 11,
   "id": "a7b93eea-18d8-45c2-ba73-e66266a01b80",
   "metadata": {
    "tags": []
   },
   "outputs": [],
   "source": [
    "# Compile\n",
    "model.compile(optimizer='adam',\n",
    "\t\t\tloss='sparse_categorical_crossentropy',\n",
    "\t\t\tmetrics=['accuracy'])\n"
   ]
  },
  {
   "cell_type": "code",
   "execution_count": 12,
   "id": "ecfe77d2-9c13-46b2-8f47-df691784725f",
   "metadata": {
    "tags": []
   },
   "outputs": [
    {
     "name": "stdout",
     "output_type": "stream",
     "text": [
      "Epoch 1/50\n",
      "1563/1563 [==============================] - 35s 9ms/step - loss: 1.2938 - accuracy: 0.5555 - val_loss: 1.2695 - val_accuracy: 0.5897\n",
      "Epoch 2/50\n",
      "1563/1563 [==============================] - 12s 8ms/step - loss: 0.8444 - accuracy: 0.7068 - val_loss: 0.7929 - val_accuracy: 0.7299\n",
      "Epoch 3/50\n",
      "1563/1563 [==============================] - 12s 8ms/step - loss: 0.6981 - accuracy: 0.7607 - val_loss: 0.7611 - val_accuracy: 0.7396\n",
      "Epoch 4/50\n",
      "1563/1563 [==============================] - 12s 8ms/step - loss: 0.5862 - accuracy: 0.7998 - val_loss: 0.6751 - val_accuracy: 0.7739\n",
      "Epoch 5/50\n",
      "1563/1563 [==============================] - 12s 8ms/step - loss: 0.4965 - accuracy: 0.8280 - val_loss: 0.6518 - val_accuracy: 0.7846\n",
      "Epoch 6/50\n",
      "1563/1563 [==============================] - 12s 8ms/step - loss: 0.4202 - accuracy: 0.8528 - val_loss: 0.6190 - val_accuracy: 0.8046\n",
      "Epoch 7/50\n",
      "1563/1563 [==============================] - 12s 8ms/step - loss: 0.3577 - accuracy: 0.8767 - val_loss: 0.6395 - val_accuracy: 0.8033\n",
      "Epoch 8/50\n",
      "1563/1563 [==============================] - 12s 8ms/step - loss: 0.2976 - accuracy: 0.8974 - val_loss: 0.6591 - val_accuracy: 0.8101\n",
      "Epoch 9/50\n",
      "1563/1563 [==============================] - 12s 8ms/step - loss: 0.2547 - accuracy: 0.9115 - val_loss: 0.6545 - val_accuracy: 0.8031\n",
      "Epoch 10/50\n",
      "1563/1563 [==============================] - 12s 8ms/step - loss: 0.2264 - accuracy: 0.9227 - val_loss: 0.6443 - val_accuracy: 0.8218\n",
      "Epoch 11/50\n",
      "1563/1563 [==============================] - 12s 8ms/step - loss: 0.1962 - accuracy: 0.9325 - val_loss: 0.6345 - val_accuracy: 0.8279\n",
      "Epoch 12/50\n",
      "1563/1563 [==============================] - 12s 8ms/step - loss: 0.1755 - accuracy: 0.9391 - val_loss: 0.6685 - val_accuracy: 0.8317\n",
      "Epoch 13/50\n",
      "1563/1563 [==============================] - 12s 8ms/step - loss: 0.1567 - accuracy: 0.9465 - val_loss: 0.7511 - val_accuracy: 0.8153\n",
      "Epoch 14/50\n",
      "1563/1563 [==============================] - 12s 8ms/step - loss: 0.1558 - accuracy: 0.9475 - val_loss: 0.6944 - val_accuracy: 0.8199\n",
      "Epoch 15/50\n",
      "1563/1563 [==============================] - 12s 8ms/step - loss: 0.1248 - accuracy: 0.9576 - val_loss: 0.7168 - val_accuracy: 0.8275\n",
      "Epoch 16/50\n",
      "1563/1563 [==============================] - 12s 8ms/step - loss: 0.1224 - accuracy: 0.9598 - val_loss: 0.7795 - val_accuracy: 0.8149\n",
      "Epoch 17/50\n",
      "1563/1563 [==============================] - 12s 8ms/step - loss: 0.1171 - accuracy: 0.9605 - val_loss: 0.7321 - val_accuracy: 0.8313\n",
      "Epoch 18/50\n",
      "1563/1563 [==============================] - 12s 8ms/step - loss: 0.1067 - accuracy: 0.9643 - val_loss: 0.7135 - val_accuracy: 0.8267\n",
      "Epoch 19/50\n",
      "1563/1563 [==============================] - 12s 8ms/step - loss: 0.1114 - accuracy: 0.9635 - val_loss: 0.7360 - val_accuracy: 0.8249\n",
      "Epoch 20/50\n",
      "1563/1563 [==============================] - 12s 8ms/step - loss: 0.0925 - accuracy: 0.9696 - val_loss: 0.7519 - val_accuracy: 0.8247\n",
      "Epoch 21/50\n",
      "1563/1563 [==============================] - 12s 8ms/step - loss: 0.0913 - accuracy: 0.9695 - val_loss: 0.7518 - val_accuracy: 0.8392\n",
      "Epoch 22/50\n",
      "1563/1563 [==============================] - 12s 8ms/step - loss: 0.0889 - accuracy: 0.9703 - val_loss: 0.7982 - val_accuracy: 0.8252\n",
      "Epoch 23/50\n",
      "1563/1563 [==============================] - 12s 8ms/step - loss: 0.0814 - accuracy: 0.9725 - val_loss: 0.8465 - val_accuracy: 0.8202\n",
      "Epoch 24/50\n",
      "1563/1563 [==============================] - 12s 8ms/step - loss: 0.0792 - accuracy: 0.9738 - val_loss: 0.7384 - val_accuracy: 0.8299\n",
      "Epoch 25/50\n",
      "1563/1563 [==============================] - 12s 8ms/step - loss: 0.0759 - accuracy: 0.9749 - val_loss: 0.7808 - val_accuracy: 0.8287\n",
      "Epoch 26/50\n",
      "1563/1563 [==============================] - 12s 8ms/step - loss: 0.0740 - accuracy: 0.9757 - val_loss: 0.7786 - val_accuracy: 0.8339\n",
      "Epoch 27/50\n",
      "1563/1563 [==============================] - 13s 8ms/step - loss: 0.0649 - accuracy: 0.9778 - val_loss: 0.8692 - val_accuracy: 0.8326\n",
      "Epoch 28/50\n",
      "1563/1563 [==============================] - 14s 9ms/step - loss: 0.0732 - accuracy: 0.9756 - val_loss: 0.7826 - val_accuracy: 0.8330\n",
      "Epoch 29/50\n",
      "1563/1563 [==============================] - 14s 9ms/step - loss: 0.0648 - accuracy: 0.9785 - val_loss: 0.7890 - val_accuracy: 0.8379\n",
      "Epoch 30/50\n",
      "1563/1563 [==============================] - 14s 9ms/step - loss: 0.0622 - accuracy: 0.9798 - val_loss: 0.8429 - val_accuracy: 0.8373\n",
      "Epoch 31/50\n",
      "1563/1563 [==============================] - 14s 9ms/step - loss: 0.0618 - accuracy: 0.9802 - val_loss: 0.8092 - val_accuracy: 0.8381\n",
      "Epoch 32/50\n",
      "1563/1563 [==============================] - 14s 9ms/step - loss: 0.0615 - accuracy: 0.9804 - val_loss: 0.9255 - val_accuracy: 0.8426\n",
      "Epoch 33/50\n",
      "1563/1563 [==============================] - 14s 9ms/step - loss: 0.0558 - accuracy: 0.9821 - val_loss: 0.8614 - val_accuracy: 0.8404\n",
      "Epoch 34/50\n",
      "1563/1563 [==============================] - 14s 9ms/step - loss: 0.0547 - accuracy: 0.9819 - val_loss: 0.8809 - val_accuracy: 0.8366\n",
      "Epoch 35/50\n",
      "1563/1563 [==============================] - 13s 8ms/step - loss: 0.0585 - accuracy: 0.9806 - val_loss: 0.7726 - val_accuracy: 0.8401\n",
      "Epoch 36/50\n",
      "1563/1563 [==============================] - 12s 8ms/step - loss: 0.0518 - accuracy: 0.9833 - val_loss: 0.8349 - val_accuracy: 0.8339\n",
      "Epoch 37/50\n",
      "1563/1563 [==============================] - 12s 8ms/step - loss: 0.0515 - accuracy: 0.9831 - val_loss: 0.8866 - val_accuracy: 0.8352\n",
      "Epoch 38/50\n",
      "1563/1563 [==============================] - 12s 8ms/step - loss: 0.0525 - accuracy: 0.9827 - val_loss: 0.8076 - val_accuracy: 0.8356\n",
      "Epoch 39/50\n",
      "1563/1563 [==============================] - 12s 8ms/step - loss: 0.0478 - accuracy: 0.9841 - val_loss: 0.8771 - val_accuracy: 0.8345\n",
      "Epoch 40/50\n",
      "1563/1563 [==============================] - 12s 8ms/step - loss: 0.0486 - accuracy: 0.9841 - val_loss: 0.9609 - val_accuracy: 0.8268\n",
      "Epoch 41/50\n",
      "1563/1563 [==============================] - 12s 8ms/step - loss: 0.0508 - accuracy: 0.9839 - val_loss: 0.8830 - val_accuracy: 0.8382\n",
      "Epoch 42/50\n",
      "1563/1563 [==============================] - 12s 8ms/step - loss: 0.0471 - accuracy: 0.9851 - val_loss: 0.8596 - val_accuracy: 0.8429\n",
      "Epoch 43/50\n",
      "1563/1563 [==============================] - 12s 8ms/step - loss: 0.0444 - accuracy: 0.9858 - val_loss: 0.8932 - val_accuracy: 0.8355\n",
      "Epoch 44/50\n",
      "1563/1563 [==============================] - 13s 8ms/step - loss: 0.0469 - accuracy: 0.9850 - val_loss: 0.8635 - val_accuracy: 0.8329\n",
      "Epoch 45/50\n",
      "1563/1563 [==============================] - 12s 8ms/step - loss: 0.0441 - accuracy: 0.9859 - val_loss: 0.8087 - val_accuracy: 0.8430\n",
      "Epoch 46/50\n",
      "1563/1563 [==============================] - 12s 8ms/step - loss: 0.0393 - accuracy: 0.9875 - val_loss: 0.9530 - val_accuracy: 0.8346\n",
      "Epoch 47/50\n",
      "1563/1563 [==============================] - 12s 8ms/step - loss: 0.0464 - accuracy: 0.9857 - val_loss: 0.9614 - val_accuracy: 0.8279\n",
      "Epoch 48/50\n",
      "1563/1563 [==============================] - 12s 8ms/step - loss: 0.0389 - accuracy: 0.9875 - val_loss: 0.8398 - val_accuracy: 0.8319\n",
      "Epoch 49/50\n",
      "1563/1563 [==============================] - 13s 8ms/step - loss: 0.0452 - accuracy: 0.9853 - val_loss: 0.8467 - val_accuracy: 0.8420\n",
      "Epoch 50/50\n",
      "1563/1563 [==============================] - 13s 8ms/step - loss: 0.0381 - accuracy: 0.9877 - val_loss: 0.9068 - val_accuracy: 0.8419\n"
     ]
    }
   ],
   "source": [
    "# Fit\n",
    "r = model.fit(\n",
    "x_train, y_train, validation_data=(x_test, y_test), epochs=50)\n"
   ]
  },
  {
   "cell_type": "code",
   "execution_count": 13,
   "id": "d57b4a18-4958-47b1-b622-99f7f7910a9f",
   "metadata": {
    "tags": []
   },
   "outputs": [
    {
     "name": "stdout",
     "output_type": "stream",
     "text": [
      "Epoch 1/50\n",
      "1562/1562 [==============================] - 22s 14ms/step - loss: 0.5537 - accuracy: 0.8244 - val_loss: 0.5047 - val_accuracy: 0.8360\n",
      "Epoch 2/50\n",
      "1562/1562 [==============================] - 21s 13ms/step - loss: 0.4447 - accuracy: 0.8528 - val_loss: 0.5227 - val_accuracy: 0.8403\n",
      "Epoch 3/50\n",
      "1562/1562 [==============================] - 21s 13ms/step - loss: 0.4039 - accuracy: 0.8647 - val_loss: 0.5091 - val_accuracy: 0.8314\n",
      "Epoch 4/50\n",
      "1562/1562 [==============================] - 21s 13ms/step - loss: 0.3796 - accuracy: 0.8728 - val_loss: 0.4649 - val_accuracy: 0.8538\n",
      "Epoch 5/50\n",
      "1562/1562 [==============================] - 22s 14ms/step - loss: 0.3621 - accuracy: 0.8777 - val_loss: 0.4798 - val_accuracy: 0.8541\n",
      "Epoch 6/50\n",
      "1562/1562 [==============================] - 22s 14ms/step - loss: 0.3455 - accuracy: 0.8854 - val_loss: 0.4394 - val_accuracy: 0.8633\n",
      "Epoch 7/50\n",
      "1562/1562 [==============================] - 21s 14ms/step - loss: 0.3311 - accuracy: 0.8879 - val_loss: 0.5113 - val_accuracy: 0.8528\n",
      "Epoch 8/50\n",
      "1562/1562 [==============================] - 21s 13ms/step - loss: 0.3241 - accuracy: 0.8914 - val_loss: 0.4442 - val_accuracy: 0.8598\n",
      "Epoch 9/50\n",
      "1562/1562 [==============================] - 21s 13ms/step - loss: 0.3134 - accuracy: 0.8952 - val_loss: 0.4383 - val_accuracy: 0.8603\n",
      "Epoch 10/50\n",
      "1562/1562 [==============================] - 21s 13ms/step - loss: 0.3078 - accuracy: 0.8954 - val_loss: 0.4529 - val_accuracy: 0.8558\n",
      "Epoch 11/50\n",
      "1562/1562 [==============================] - 22s 14ms/step - loss: 0.2931 - accuracy: 0.9005 - val_loss: 0.4319 - val_accuracy: 0.8615\n",
      "Epoch 12/50\n",
      "1562/1562 [==============================] - 23s 15ms/step - loss: 0.2835 - accuracy: 0.9052 - val_loss: 0.4400 - val_accuracy: 0.8645\n",
      "Epoch 13/50\n",
      "1562/1562 [==============================] - 22s 14ms/step - loss: 0.2823 - accuracy: 0.9050 - val_loss: 0.4321 - val_accuracy: 0.8705\n",
      "Epoch 14/50\n",
      "1562/1562 [==============================] - 21s 14ms/step - loss: 0.2745 - accuracy: 0.9068 - val_loss: 0.4375 - val_accuracy: 0.8622\n",
      "Epoch 15/50\n",
      "1562/1562 [==============================] - 21s 13ms/step - loss: 0.2688 - accuracy: 0.9081 - val_loss: 0.4311 - val_accuracy: 0.8639\n",
      "Epoch 16/50\n",
      "1562/1562 [==============================] - 21s 13ms/step - loss: 0.2645 - accuracy: 0.9101 - val_loss: 0.4299 - val_accuracy: 0.8740\n",
      "Epoch 17/50\n",
      "1562/1562 [==============================] - 22s 14ms/step - loss: 0.2575 - accuracy: 0.9130 - val_loss: 0.4353 - val_accuracy: 0.8629\n",
      "Epoch 18/50\n",
      "1562/1562 [==============================] - 22s 14ms/step - loss: 0.2455 - accuracy: 0.9163 - val_loss: 0.4614 - val_accuracy: 0.8678\n",
      "Epoch 19/50\n",
      "1562/1562 [==============================] - 22s 14ms/step - loss: 0.2495 - accuracy: 0.9153 - val_loss: 0.4442 - val_accuracy: 0.8664\n",
      "Epoch 20/50\n",
      "1562/1562 [==============================] - 21s 13ms/step - loss: 0.2480 - accuracy: 0.9164 - val_loss: 0.4317 - val_accuracy: 0.8693\n",
      "Epoch 21/50\n",
      "1562/1562 [==============================] - 21s 14ms/step - loss: 0.2364 - accuracy: 0.9198 - val_loss: 0.4819 - val_accuracy: 0.8646\n",
      "Epoch 22/50\n",
      "1562/1562 [==============================] - 21s 13ms/step - loss: 0.2296 - accuracy: 0.9213 - val_loss: 0.4706 - val_accuracy: 0.8616\n",
      "Epoch 23/50\n",
      "1562/1562 [==============================] - 22s 14ms/step - loss: 0.2271 - accuracy: 0.9231 - val_loss: 0.4136 - val_accuracy: 0.8774\n",
      "Epoch 24/50\n",
      "1562/1562 [==============================] - 23s 15ms/step - loss: 0.2266 - accuracy: 0.9227 - val_loss: 0.4268 - val_accuracy: 0.8722\n",
      "Epoch 25/50\n",
      "1562/1562 [==============================] - 22s 14ms/step - loss: 0.2235 - accuracy: 0.9246 - val_loss: 0.4110 - val_accuracy: 0.8763\n",
      "Epoch 26/50\n",
      "1562/1562 [==============================] - 21s 14ms/step - loss: 0.2147 - accuracy: 0.9266 - val_loss: 0.4410 - val_accuracy: 0.8743\n",
      "Epoch 27/50\n",
      "1562/1562 [==============================] - 21s 13ms/step - loss: 0.2136 - accuracy: 0.9276 - val_loss: 0.4237 - val_accuracy: 0.8733\n",
      "Epoch 28/50\n",
      "1562/1562 [==============================] - 21s 13ms/step - loss: 0.2119 - accuracy: 0.9270 - val_loss: 0.4025 - val_accuracy: 0.8806\n",
      "Epoch 29/50\n",
      "1562/1562 [==============================] - 22s 14ms/step - loss: 0.2120 - accuracy: 0.9270 - val_loss: 0.4550 - val_accuracy: 0.8766\n",
      "Epoch 30/50\n",
      "1562/1562 [==============================] - 22s 14ms/step - loss: 0.2026 - accuracy: 0.9306 - val_loss: 0.4106 - val_accuracy: 0.8771\n",
      "Epoch 31/50\n",
      "1562/1562 [==============================] - 22s 14ms/step - loss: 0.2028 - accuracy: 0.9310 - val_loss: 0.4399 - val_accuracy: 0.8682\n",
      "Epoch 32/50\n",
      "1562/1562 [==============================] - 21s 14ms/step - loss: 0.1994 - accuracy: 0.9327 - val_loss: 0.4349 - val_accuracy: 0.8775\n",
      "Epoch 33/50\n",
      "1562/1562 [==============================] - 21s 14ms/step - loss: 0.1986 - accuracy: 0.9322 - val_loss: 0.4333 - val_accuracy: 0.8803\n",
      "Epoch 34/50\n",
      "1562/1562 [==============================] - 21s 13ms/step - loss: 0.1911 - accuracy: 0.9351 - val_loss: 0.4225 - val_accuracy: 0.8772\n",
      "Epoch 35/50\n",
      "1562/1562 [==============================] - 22s 14ms/step - loss: 0.1904 - accuracy: 0.9351 - val_loss: 0.4293 - val_accuracy: 0.8812\n",
      "Epoch 36/50\n",
      "1562/1562 [==============================] - 23s 15ms/step - loss: 0.1926 - accuracy: 0.9354 - val_loss: 0.4195 - val_accuracy: 0.8773\n",
      "Epoch 37/50\n",
      "1562/1562 [==============================] - 22s 14ms/step - loss: 0.1842 - accuracy: 0.9377 - val_loss: 0.4167 - val_accuracy: 0.8833\n",
      "Epoch 38/50\n",
      "1562/1562 [==============================] - 21s 14ms/step - loss: 0.1867 - accuracy: 0.9373 - val_loss: 0.4106 - val_accuracy: 0.8771\n",
      "Epoch 39/50\n",
      "1562/1562 [==============================] - 21s 13ms/step - loss: 0.1795 - accuracy: 0.9389 - val_loss: 0.4274 - val_accuracy: 0.8784\n",
      "Epoch 40/50\n",
      "1562/1562 [==============================] - 21s 13ms/step - loss: 0.1785 - accuracy: 0.9399 - val_loss: 0.4227 - val_accuracy: 0.8830\n",
      "Epoch 41/50\n",
      "1562/1562 [==============================] - 22s 14ms/step - loss: 0.1756 - accuracy: 0.9414 - val_loss: 0.4451 - val_accuracy: 0.8739\n",
      "Epoch 42/50\n",
      "1562/1562 [==============================] - 22s 14ms/step - loss: 0.1785 - accuracy: 0.9391 - val_loss: 0.4554 - val_accuracy: 0.8811\n",
      "Epoch 43/50\n",
      "1562/1562 [==============================] - 22s 14ms/step - loss: 0.1765 - accuracy: 0.9389 - val_loss: 0.4084 - val_accuracy: 0.8824\n",
      "Epoch 44/50\n",
      "1562/1562 [==============================] - 21s 14ms/step - loss: 0.1750 - accuracy: 0.9409 - val_loss: 0.4759 - val_accuracy: 0.8732\n",
      "Epoch 45/50\n",
      "1562/1562 [==============================] - 21s 13ms/step - loss: 0.1719 - accuracy: 0.9414 - val_loss: 0.4238 - val_accuracy: 0.8804\n",
      "Epoch 46/50\n",
      "1562/1562 [==============================] - 22s 14ms/step - loss: 0.1702 - accuracy: 0.9417 - val_loss: 0.4165 - val_accuracy: 0.8845\n",
      "Epoch 47/50\n",
      "1562/1562 [==============================] - 22s 14ms/step - loss: 0.1683 - accuracy: 0.9435 - val_loss: 0.4298 - val_accuracy: 0.8844\n",
      "Epoch 48/50\n",
      "1562/1562 [==============================] - 23s 15ms/step - loss: 0.1652 - accuracy: 0.9446 - val_loss: 0.4499 - val_accuracy: 0.8851\n",
      "Epoch 49/50\n",
      "1562/1562 [==============================] - 22s 14ms/step - loss: 0.1647 - accuracy: 0.9447 - val_loss: 0.4472 - val_accuracy: 0.8753\n",
      "Epoch 50/50\n",
      "1562/1562 [==============================] - 21s 13ms/step - loss: 0.1624 - accuracy: 0.9455 - val_loss: 0.4630 - val_accuracy: 0.8791\n"
     ]
    }
   ],
   "source": [
    "# Fit with data augmentation\n",
    "batch_size = 32\n",
    "data_generator = tf.keras.preprocessing.image.ImageDataGenerator(\n",
    "width_shift_range=0.1, height_shift_range=0.1, horizontal_flip=True)\n",
    "\n",
    "train_generator = data_generator.flow(x_train, y_train, batch_size)\n",
    "steps_per_epoch = x_train.shape[0] // batch_size\n",
    "\n",
    "r = model.fit(train_generator, validation_data=(x_test, y_test),\n",
    "\t\t\tsteps_per_epoch=steps_per_epoch, epochs=50)\n"
   ]
  },
  {
   "cell_type": "code",
   "execution_count": 14,
   "id": "17370981-7b7b-4a6e-850e-45adf8228f61",
   "metadata": {
    "tags": []
   },
   "outputs": [
    {
     "data": {
      "text/plain": [
       "<matplotlib.legend.Legend at 0x249ae31ece0>"
      ]
     },
     "execution_count": 14,
     "metadata": {},
     "output_type": "execute_result"
    },
    {
     "data": {
      "image/png": "[encoded data removed]",
      "text/plain": [
       "<Figure size 640x480 with 1 Axes>"
      ]
     },
     "metadata": {},
     "output_type": "display_data"
    }
   ],
   "source": [
    "# Plot accuracy per iteration\n",
    "plt.plot(r.history['accuracy'], label='acc', color='red')\n",
    "plt.plot(r.history['val_accuracy'], label='val_acc', color='green')\n",
    "plt.legend()\n"
   ]
  },
  {
   "cell_type": "code",
   "execution_count": 33,
   "id": "6628b968-1432-4591-b9a5-2cbf7420bf01",
   "metadata": {
    "tags": []
   },
   "outputs": [
    {
     "name": "stdout",
     "output_type": "stream",
     "text": [
      "1/1 [==============================] - 0s 19ms/step\n",
      "['Airplane', 'Automobile', 'Bird', 'Cat', 'Deer', 'Dog', 'Frog', 'Horse', 'Ship', 'Truck']\n",
      "Original label is Airplane and predicted label is Airplane\n"
     ]
    },
    {
     "data": {
      "image/png": "[encoded data removed]",
      "text/plain": [
       "<Figure size 640x480 with 1 Axes>"
      ]
     },
     "metadata": {},
     "output_type": "display_data"
    }
   ],
   "source": [
    "# label mapping\n",
    "\n",
    "labels = '''Airplane Automobile Bird Cat Deer Dog Frog Horse Ship Truck'''.split()\n",
    "\n",
    "# select the image from our test dataset\n",
    "image_number = 3\n",
    "\n",
    "# display the image\n",
    "plt.imshow(x_test[image_number])\n",
    "\n",
    "# load the image in an array\n",
    "n = np.array(x_test[image_number])\n",
    "\n",
    "# reshape it\n",
    "p = n.reshape(1, 32, 32, 3)\n",
    "\n",
    "# pass in the network for prediction and\n",
    "# save the predicted label\n",
    "predicted_label = labels[model.predict(p).argmax()]\n",
    "print(labels)\n",
    "\n",
    "# load the original label\n",
    "original_label = labels[y_test[image_number]]\n",
    "\n",
    "# display the result\n",
    "print(\"Original label is {} and predicted label is {}\".format(\n",
    "\toriginal_label, predicted_label))\n"
   ]
  },
  {
   "cell_type": "code",
   "execution_count": 34,
   "id": "bfe58f83-7efe-44bf-88ff-78757efca5c1",
   "metadata": {
    "tags": []
   },
   "outputs": [],
   "source": [
    "# save the model\n",
    "model.save('Image Classification with CIFAR-10.h5')\n"
   ]
  }
 ],
 "metadata": {
  "kernelspec": {
   "display_name": "Python 3.10 (tensorflow-gpu)",
   "language": "python",
   "name": "tensorflow-gpu"
  },
  "language_info": {
   "codemirror_mode": {
    "name": "ipython",
    "version": 3
   },
   "file_extension": ".py",
   "mimetype": "text/x-python",
   "name": "python",
   "nbconvert_exporter": "python",
   "pygments_lexer": "ipython3",
   "version": "3.10.12"
  }
 },
 "nbformat": 4,
 "nbformat_minor": 5
}
